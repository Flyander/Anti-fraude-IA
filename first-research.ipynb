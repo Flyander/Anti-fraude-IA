{
 "cells": [
  {
   "attachments": {},
   "cell_type": "markdown",
   "metadata": {},
   "source": [
    "<h1 style=\"text-align: center; background-color: #006A4E; color: white; padding: 20px\">Lutte contre la fraude fiscale (Projet BnP)</h1>"
   ]
  },
  {
   "cell_type": "code",
   "execution_count": 2,
   "metadata": {},
   "outputs": [],
   "source": [
    "import pandas as pd\n",
    "import numpy as np\n",
    "import matplotlib.pyplot as plt\n",
    "import os"
   ]
  },
  {
   "cell_type": "code",
   "execution_count": 3,
   "metadata": {},
   "outputs": [],
   "source": [
    "def load_data():\n",
    "    # Load the data from the csv file in Data folder\n",
    "    dict_data = {}\n",
    "    for filename in os.listdir('Data'):\n",
    "        if filename.endswith('.csv'):\n",
    "            data = pd.read_csv(os.path.join('Data', filename), low_memory=False)\n",
    "            dict_data[filename] = data\n",
    "\n",
    "    # return the dict data decomposed into x_train, x_test, y_train, y_test\n",
    "    return dict_data['x_train.csv'], dict_data['y_train.csv'], dict_data['x_test.csv'], dict_data['y_test.csv']\n",
    "    \n",
    "    \n",
    "\n",
    "x_train, y_train, x_test, y_test = load_data()"
   ]
  },
  {
   "cell_type": "code",
   "execution_count": 5,
   "metadata": {},
   "outputs": [
    {
     "data": {
      "text/plain": [
       "((92790, 146), (92790, 3), (23198, 146), (23198, 3))"
      ]
     },
     "execution_count": 5,
     "metadata": {},
     "output_type": "execute_result"
    }
   ],
   "source": [
    "x_train.shape, y_train.shape, x_test.shape, y_test.shape"
   ]
  },
  {
   "attachments": {},
   "cell_type": "markdown",
   "metadata": {},
   "source": [
    "# 1. Métrique d'évaluation"
   ]
  },
  {
   "attachments": {},
   "cell_type": "markdown",
   "metadata": {},
   "source": [
    "## PR-AUC (Aire sous la courbe Précision-Rappel)"
   ]
  },
  {
   "attachments": {},
   "cell_type": "markdown",
   "metadata": {},
   "source": [
    "$$\\text{PR-AUC} = \\int_{0}^{1} \\text{PR}(r) \\, dr$$"
   ]
  }
 ],
 "metadata": {
  "kernelspec": {
   "display_name": "Python 3.7.15 ('anti-fraude')",
   "language": "python",
   "name": "python3"
  },
  "language_info": {
   "codemirror_mode": {
    "name": "ipython",
    "version": 3
   },
   "file_extension": ".py",
   "mimetype": "text/x-python",
   "name": "python",
   "nbconvert_exporter": "python",
   "pygments_lexer": "ipython3",
   "version": "3.7.15"
  },
  "orig_nbformat": 4,
  "vscode": {
   "interpreter": {
    "hash": "d6cbe91c6f439a53d982f4722bcbe82e2db734241ca15f3b86fc02643bc29fbb"
   }
  }
 },
 "nbformat": 4,
 "nbformat_minor": 2
}
