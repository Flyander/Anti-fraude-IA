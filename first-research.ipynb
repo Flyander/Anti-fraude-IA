{
 "cells": [
  {
   "attachments": {},
   "cell_type": "markdown",
   "metadata": {},
   "source": [
    "<h1 style=\"text-align: center; background-color: #006A4E; color: white; padding: 20px;\">Lutte contre la fraude fiscale (Projet BnP)</h1>"
   ]
  },
  {
   "attachments": {},
   "cell_type": "markdown",
   "metadata": {},
   "source": [
    "# **Description du projet**"
   ]
  },
  {
   "attachments": {},
   "cell_type": "markdown",
   "metadata": {},
   "source": [
    "## **Contexte**"
   ]
  },
  {
   "attachments": {},
   "cell_type": "markdown",
   "metadata": {},
   "source": [
    "BNP Paribas Personal Finance est le n°1 du financement aux particuliers en France et en Europe au travers de ses activités de crédit à la consommation.\n",
    "\n",
    "Filiale à 100% du groupe BNP Paribas, BNP Paribas Personal Finance compte plus de 20 000 collaborateurs et opère dans une trentaine de pays. Avec des marques comme Cetelem, Cofinoga ou encore Findomestic, l'entreprise propose une gamme complète de crédits aux particuliers disponibles en magasin, en concession automobile ou directement auprès des clients via ses centres de relation client et sur internet. BNP Paribas Personal Finance a complété son offre avec des produits d'assurance et d'épargne pour ses clients en Allemagne, Bulgarie, France et Italie. BNP Paribas Personal Finance a développé une stratégie active de partenariat avec les enseignes de distribution, les constructeurs et les distributeurs automobiles, les webmarchands, et d'autres institutions financières (banque et assurance), fondée sur son expérience du marché du crédit et sa capacité à proposer des services intégrés adaptés à l'activité et à la stratégie commerciale de ses partenaires. Il est aussi un acteur de référence en matière de crédit responsable et d'éducation budgétaire.\n",
    "\n",
    "BNPP Personal Finance est, par nature, exposée au Risque de Crédit, et s'appuie fortement sur des modèles quantitatifs pour le gérer. La direction Central Risk Department s'assure de la pertinence des modèles de notations de risque utilisés par les entités locales et garantit un niveau élevé d'expertise en intégrant des nouvelles techniques de modélisation dans notre environnement.\n",
    "\n",
    "L'équipe Credit Process Optimization fait partie du département Risk Personal Finance Credit Decision Process and Policies, elle contribue à la rationalisation et à l'optimisation du process risque de décision par une approche analytique. Nous soutenons les équipes Risk en local pour améliorer l'efficacité de leur process de décision crédit, y compris sur la partie fraude. Il s'agit de trouver le meilleur compromis entre la profitabilité, l'expérience client et les profils de risque.\n",
    "\n",
    "La fraude est un problème majeur de plus en plus préoccupant pour les institutions financières du monde entier. Les criminels utilisent une grande variété de méthodes pour attaquer des organisations comme la nôtre, quels que soient les systèmes, les canaux, les process ou les produits.\n",
    "\n",
    "**Le développement de méthodes de détection de la fraude est stratégique et essentiel pour nous. Les fraudeurs s'avèrent toujours très créatifs et ingénieux pour normaliser leurs comportements et les rendre difficilement identifiables. Une contrainte s'ajoute à cette problématique, la faible occurence de la fraude dans notre population.**"
   ]
  },
  {
   "attachments": {},
   "cell_type": "markdown",
   "metadata": {},
   "source": [
    "## **Objectif**"
   ]
  },
  {
   "attachments": {},
   "cell_type": "markdown",
   "metadata": {},
   "source": [
    "L'objectif de ce challenge est de **trouver la meilleure méthode pour transformer et agréger les données relatives au panier client d'un de nos parteneraires pour détecter les cas de fraude.**\n",
    "\n",
    "En utilisant ces données panier, les fraudeurs pourront être détectés, et ainsi refusés dans le futur."
   ]
  },
  {
   "attachments": {},
   "cell_type": "markdown",
   "metadata": {},
   "source": [
    "## **Description des données**"
   ]
  },
  {
   "attachments": {},
   "cell_type": "markdown",
   "metadata": {},
   "source": [
    "### **1. Base de données**"
   ]
  },
  {
   "attachments": {},
   "cell_type": "markdown",
   "metadata": {},
   "source": [
    "La base contient une liste **d'achats effectués chez notre partenaire que nous avons financés.** Les informations décrivent exclusivement le **contenu du panier.**\n",
    "\n",
    "Pour chaque observation de la base, il y a 147 colonnes dont 144 peuvent être regroupées en 6 catégories :\n",
    "\n",
    "- *item*\n",
    "\n",
    "- *cash_price*\n",
    "\n",
    "- *make*\n",
    "\n",
    "- *model*\n",
    "\n",
    "- *goods_code*\n",
    "\n",
    "- *Nbr_of_prod_purchas*\n",
    "\n",
    "Le panier se décompose au maximum en 24 items. Par exemple, si un panier contient 3 items alors toutes les informations relatives à ces 3 items seront renseignées dans les colonnes *item1, item2, item3, cash_price1, cash_price_2, cash_price3, make1, make2, make3, model1, model2, model3, goods_code1, goods_code2, goods_code3, Nbr_of_prod_purchas1, Nbr_of_prod_purchas2* et *Nbr_of_prod_purchas3*. Les variables restantes (celles avec un indice > 3) seront vides.\n",
    "\n",
    "Un item correspond à un produit ou un regroupement de produits équivalents. Par exemple, si un panier contient 3 Iphones 14, alors ces 3 produits seront regroupés dans un seul item. Par contre, si le client achète 3 produits Iphone différents, alors nous considèrerons ici 3 items.\n",
    "\n",
    "La variable *Nb_of_items* correspond au nombre d'items dans le panier, tandis que la somme des variables *Nbr_of_fraud_purchas* correspond au nombre de produits.\n",
    "\n",
    "L’indicatrice ***fraud_flag*** permet de savoir si l’observation a été identifiée comme frauduleuse ou non."
   ]
  },
  {
   "attachments": {},
   "cell_type": "markdown",
   "metadata": {},
   "source": [
    "#### **1.1. Description des variables en entrée (X)**"
   ]
  },
  {
   "attachments": {},
   "cell_type": "markdown",
   "metadata": {},
   "source": [
    "|  **Variable** |  **Description** | **Exemple**  |\n",
    "|---------------|------------------|--------------|\n",
    "| *ID (Num)* | \tIdentifiant unique  | 1 |\n",
    "| *item1 à item24 (Char)* | Catégorie du bien de l'item 1 à 24  |  Computer |\n",
    "| *cash_price1 à cash_price24 (Num)*  | Prix de l'item 1 à 24  | 850  |\n",
    "| *make1 à make24 (Char)* | Fabriquant de l'item 1 à 24  | Apple  |\n",
    "| *model1 à model24 (Char)* | Description du modèle de l'item de 1 à 24  | Apple Iphone  XX |\n",
    "| *goods_code1 à goods_code24 (Char)* | Code de l'item 1 à 24  |  239874984984 |\n",
    "| *Nbr_of_prod_purchas1 à Nbr_of_prod_purchas24 (Num)* | Nombre de produits dans l'item 1 à 24  | 45  |\n",
    "| *Nb_of_items (Num)* | Nombre total d'items  | 7  |"
   ]
  },
  {
   "attachments": {},
   "cell_type": "markdown",
   "metadata": {},
   "source": [
    "#### **1.2. Description des variables en sortie (Y)**"
   ]
  },
  {
   "attachments": {},
   "cell_type": "markdown",
   "metadata": {},
   "source": [
    "|  **Variable** |  **Description** |\n",
    "|---------------|------------------|\n",
    "| *ID (Num)* | \tIdentifiant unique  |\n",
    "| *fraud_flag (Num)* | \tIndicatrice de fraude (1 si fraude, 0 sinon)  |"
   ]
  },
  {
   "attachments": {},
   "cell_type": "markdown",
   "metadata": {},
   "source": [
    "#### **1.3. Taille de la base**"
   ]
  },
  {
   "attachments": {},
   "cell_type": "markdown",
   "metadata": {},
   "source": [
    "**Taille:** 115 988 observations, 147 colonnes\n",
    "\n",
    "Distribution des fraudes dans la base :\n",
    "\n",
    "- Fraude (Y=1): 1 681 observations **(1,45%)**\n",
    "- Non fraude (Y=0): 114 307 observations **(98,55%)**"
   ]
  },
  {
   "attachments": {},
   "cell_type": "markdown",
   "metadata": {},
   "source": [
    "### **2. Échantillons**"
   ]
  },
  {
   "attachments": {},
   "cell_type": "markdown",
   "metadata": {},
   "source": [
    "La méthode d'échantillonnage appliquée est un tirage aléatoire simple sans remise. Ainsi, 80% de la base initiale a été utilisée pour générer l'échantillon de training et 20% pour l'échantillon de test."
   ]
  },
  {
   "attachments": {},
   "cell_type": "markdown",
   "metadata": {},
   "source": [
    "#### **2.1. Échantillon d'entrainement**"
   ]
  },
  {
   "attachments": {},
   "cell_type": "markdown",
   "metadata": {},
   "source": [
    "**Taille:** 92 790 observations, 147 colonnes\n",
    "\n",
    "Distribution des fraudes dans l'échantillon d'entrainement (Y_train):\n",
    "\n",
    "- Fraude (Y=1): 1 319 observations **(1,43%)**\n",
    "- Non fraude (Y=0): 91 471 observations **(98,57%)**"
   ]
  },
  {
   "attachments": {},
   "cell_type": "markdown",
   "metadata": {},
   "source": [
    "#### **2.2. Échantillon de test**"
   ]
  },
  {
   "attachments": {},
   "cell_type": "markdown",
   "metadata": {},
   "source": [
    "**Taille:** 23 198 observations, 147 colonnes\n",
    "\n",
    "Distribution des fraudes dans l'échantillon de test (Y_test):\n",
    "\n",
    "- Fraude (Y=1): 362 observations **(1,56%)**\n",
    "- Non fraude (Y=0): 22 836 observations **(98,44%)**"
   ]
  },
  {
   "attachments": {},
   "cell_type": "markdown",
   "metadata": {},
   "source": [
    "# **Métrique d'évaluation**"
   ]
  },
  {
   "attachments": {},
   "cell_type": "markdown",
   "metadata": {},
   "source": [
    "L'objectif est d'identifier une opération frauduleuse dans la population en prédisant un risque/probabilité de fraude. Par conséquent, la métrique à utiliser est l'aire sous la courbe Précision-Rappel, appelé également PR-AUC.\n",
    "\n",
    "La courbe Précision-Rappel s'obtient en traçant la précision :​$$\\frac{\\text{TP}} {(\\text{TP} + \\text{FN})}$$​En fonction du rappel :​​$$\\frac{\\text{TP}} {(\\text{TP} + \\text{FP})}$$​Sur l'axe des abcisses pour tout seuil de probabilité compris entre 0 et 1.\n",
    "\n",
    "Cette métrique est appropriée pour évaluer correctement la performance d'un modèle sur la classe minoritaire dans le cadre d'une classification fortement déséquilibrée.\n",
    "\n",
    "**Le meilleur modèle correspondra à celui avec la valeur de PR-AUC la plus élevée.**\n",
    "\n",
    "Pour ce challenge, la PR-AUC sera estimée par la moyenne pondérées des précisions à chaque seuil avec le poids associé étant la variation du rappel entre le seuil précédent et le nouveau seuil "
   ]
  },
  {
   "attachments": {},
   "cell_type": "markdown",
   "metadata": {},
   "source": [
    "### **PR-AUC (Aire sous la courbe Précision-Rappel)**"
   ]
  },
  {
   "attachments": {},
   "cell_type": "markdown",
   "metadata": {},
   "source": [
    "$$\\text{PR-AUC} = \\sum_{n} (R_{n} - R_{n-1}) \\times P_{n}$$"
   ]
  },
  {
   "attachments": {},
   "cell_type": "markdown",
   "metadata": {},
   "source": [
    "où $R_{n}$ et $P_{n}$ sont le rappel et la précision à chaque seuil."
   ]
  },
  {
   "attachments": {},
   "cell_type": "markdown",
   "metadata": {},
   "source": [
    "**N.B.** Cette implémentation correspond à la métrique **average_precision_score** de sklearn.\n",
    "\n",
    "Par conséquent, votre **fichier de submission** devra avoir le format suivant :\n",
    "\n",
    "|  **ID** |  **Description** |\n",
    "|---------------|------------------|\n",
    "| *ID (Num)* | \tIdentifiant unique  |\n",
    "| *fraud_flag (Num)* | \tProbabilité estimée (décimale positive entre 0 et 1) pour la classe minoritaire (1). Plus la valeur est élevée, plus la probabilité est forte d'être une opération frauduleuse.  |"
   ]
  },
  {
   "attachments": {},
   "cell_type": "markdown",
   "metadata": {},
   "source": [
    "Vous pouvez utiliser les fichiers .csv Y_test_random et Y_test_benchmark pour vérifier le format attendu et la taille de votre fichier de submission pour ce challenge."
   ]
  },
  {
   "attachments": {},
   "cell_type": "markdown",
   "metadata": {},
   "source": [
    "# **Benchmarks**"
   ]
  },
  {
   "attachments": {},
   "cell_type": "markdown",
   "metadata": {},
   "source": [
    "***\n",
    "\n",
    "- **Benchmark 1 :** $\\text{PR-AUC}_{1}$ = 0.017 \n",
    "\n",
    "    Le premier benchmark est naïf et considère un modèle qui prédit aléatoirement une probabilité entre 0 et 1.\n",
    "\n",
    "***\n",
    "\n",
    "- **Benchmark 2 :** $\\text{PR-AUC}_{2}$ = 0.14\n",
    "  \n",
    "    Le second benchmark intègre plusieurs étapes de pré-processing et utilise un modèle de Machine Learning optimisé pour prédire le risque de fraude.\n",
    "\n",
    "***"
   ]
  },
  {
   "attachments": {},
   "cell_type": "markdown",
   "metadata": {},
   "source": [
    "# **Solution**"
   ]
  },
  {
   "cell_type": "code",
   "execution_count": 9,
   "metadata": {},
   "outputs": [],
   "source": [
    "import pandas as pd\n",
    "import numpy as np\n",
    "import matplotlib.pyplot as plt\n",
    "import os"
   ]
  },
  {
   "cell_type": "code",
   "execution_count": 10,
   "metadata": {},
   "outputs": [],
   "source": [
    "def load_data():\n",
    "    # Load the data from the csv file in Data folder\n",
    "    dict_data = {}\n",
    "    for filename in os.listdir('Data'):\n",
    "        if filename.endswith('.csv'):\n",
    "            data = pd.read_csv(os.path.join('Data', filename), low_memory=False)\n",
    "            dict_data[filename] = data\n",
    "\n",
    "    # return the dict data decomposed into x_train, x_test, y_train, y_test\n",
    "    return dict_data['x_train.csv'], dict_data['y_train.csv'], dict_data['x_test.csv'], dict_data['y_test.csv']\n",
    "    \n",
    "    \n",
    "\n",
    "x_train, y_train, x_test, y_test = load_data()"
   ]
  },
  {
   "cell_type": "code",
   "execution_count": 11,
   "metadata": {},
   "outputs": [
    {
     "data": {
      "text/plain": [
       "((92790, 146), (92790, 3), (23198, 146), (23198, 3))"
      ]
     },
     "execution_count": 11,
     "metadata": {},
     "output_type": "execute_result"
    }
   ],
   "source": [
    "x_train.shape, y_train.shape, x_test.shape, y_test.shape"
   ]
  },
  {
   "cell_type": "markdown",
   "metadata": {},
   "source": []
  }
 ],
 "metadata": {
  "kernelspec": {
   "display_name": "Python 3.7.15 ('anti-fraude')",
   "language": "python",
   "name": "python3"
  },
  "language_info": {
   "codemirror_mode": {
    "name": "ipython",
    "version": 3
   },
   "file_extension": ".py",
   "mimetype": "text/x-python",
   "name": "python",
   "nbconvert_exporter": "python",
   "pygments_lexer": "ipython3",
   "version": "3.7.15"
  },
  "orig_nbformat": 4,
  "vscode": {
   "interpreter": {
    "hash": "d6cbe91c6f439a53d982f4722bcbe82e2db734241ca15f3b86fc02643bc29fbb"
   }
  }
 },
 "nbformat": 4,
 "nbformat_minor": 2
}
